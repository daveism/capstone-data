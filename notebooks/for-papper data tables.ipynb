{
 "cells": [
  {
   "cell_type": "code",
   "execution_count": 2,
   "metadata": {},
   "outputs": [],
   "source": [
    "import pandas as pd\n",
    "import matplotlib.pyplot as plt\n",
    "import matplotlib.ticker as ticker\n",
    "import seaborn as sns\n",
    "import numpy as np\n",
    "import researchpy as rp\n",
    "\n",
    "datadf = pd.read_csv('data/data-and-metrics.csv')"
   ]
  },
  {
   "cell_type": "code",
   "execution_count": 3,
   "metadata": {},
   "outputs": [
    {
     "name": "stdout",
     "output_type": "stream",
     "text": [
      "\n",
      "\n"
     ]
    },
    {
     "data": {
      "text/html": [
       "<div>\n",
       "<style scoped>\n",
       "    .dataframe tbody tr th:only-of-type {\n",
       "        vertical-align: middle;\n",
       "    }\n",
       "\n",
       "    .dataframe tbody tr th {\n",
       "        vertical-align: top;\n",
       "    }\n",
       "\n",
       "    .dataframe thead th {\n",
       "        text-align: right;\n",
       "    }\n",
       "</style>\n",
       "<table border=\"1\" class=\"dataframe\">\n",
       "  <thead>\n",
       "    <tr style=\"text-align: right;\">\n",
       "      <th></th>\n",
       "      <th>N</th>\n",
       "      <th>Mean</th>\n",
       "      <th>SD</th>\n",
       "      <th>SE</th>\n",
       "      <th>95% Conf.</th>\n",
       "      <th>Interval</th>\n",
       "    </tr>\n",
       "    <tr>\n",
       "      <th>target</th>\n",
       "      <th></th>\n",
       "      <th></th>\n",
       "      <th></th>\n",
       "      <th></th>\n",
       "      <th></th>\n",
       "      <th></th>\n",
       "    </tr>\n",
       "  </thead>\n",
       "  <tbody>\n",
       "    <tr>\n",
       "      <th>gestalt</th>\n",
       "      <td>27766</td>\n",
       "      <td>0.9272</td>\n",
       "      <td>0.2599</td>\n",
       "      <td>0.0016</td>\n",
       "      <td>0.9241</td>\n",
       "      <td>0.9302</td>\n",
       "    </tr>\n",
       "    <tr>\n",
       "      <th>less gestalt</th>\n",
       "      <td>27105</td>\n",
       "      <td>0.8647</td>\n",
       "      <td>0.3420</td>\n",
       "      <td>0.0021</td>\n",
       "      <td>0.8606</td>\n",
       "      <td>0.8688</td>\n",
       "    </tr>\n",
       "    <tr>\n",
       "      <th>no target</th>\n",
       "      <td>54856</td>\n",
       "      <td>0.9748</td>\n",
       "      <td>0.1567</td>\n",
       "      <td>0.0007</td>\n",
       "      <td>0.9735</td>\n",
       "      <td>0.9761</td>\n",
       "    </tr>\n",
       "  </tbody>\n",
       "</table>\n",
       "</div>"
      ],
      "text/plain": [
       "                  N    Mean      SD      SE  95% Conf.  Interval\n",
       "target                                                          \n",
       "gestalt       27766  0.9272  0.2599  0.0016     0.9241    0.9302\n",
       "less gestalt  27105  0.8647  0.3420  0.0021     0.8606    0.8688\n",
       "no target     54856  0.9748  0.1567  0.0007     0.9735    0.9761"
      ]
     },
     "execution_count": 3,
     "metadata": {},
     "output_type": "execute_result"
    }
   ],
   "source": [
    "rp.summary_cont(datadf['correct'].groupby(datadf['target']))"
   ]
  },
  {
   "cell_type": "code",
   "execution_count": null,
   "metadata": {},
   "outputs": [],
   "source": []
  }
 ],
 "metadata": {
  "kernelspec": {
   "display_name": "Python 3",
   "language": "python",
   "name": "python3"
  },
  "language_info": {
   "codemirror_mode": {
    "name": "ipython",
    "version": 3
   },
   "file_extension": ".py",
   "mimetype": "text/x-python",
   "name": "python",
   "nbconvert_exporter": "python",
   "pygments_lexer": "ipython3",
   "version": "3.8.6"
  }
 },
 "nbformat": 4,
 "nbformat_minor": 4
}
