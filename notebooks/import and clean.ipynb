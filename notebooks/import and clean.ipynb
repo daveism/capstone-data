{
 "cells": [
  {
   "cell_type": "code",
   "execution_count": 1,
   "metadata": {},
   "outputs": [
    {
     "name": "stderr",
     "output_type": "stream",
     "text": [
      "/Users/daveism/.pyenv/versions/3.8.6/lib/python3.8/site-packages/pandas/core/arraylike.py:274: RuntimeWarning: divide by zero encountered in log\n",
      "  result = getattr(ufunc, method)(*inputs, **kwargs)\n"
     ]
    }
   ],
   "source": [
    "import pandas as pd\n",
    "import numpy as np\n",
    "\n",
    "datadf = pd.read_csv('data/visual-search-study-data-live-analyze.csv')\n",
    "datadf['source'] = 'data'\n",
    "\n",
    "dataMetricsdf = pd.read_csv('data/metrics.csv')\n",
    "dataMetricsdf['source'] = 'data'\n",
    "\n",
    "# get rid of outliers \n",
    "datadf = datadf.loc[datadf['timetaken'] < 10000]\n",
    "datadf = datadf.loc[datadf['timetaken'] > 250]\n",
    "datadf = datadf.loc[datadf['uuid'] != '']\n",
    "\n",
    "basemaps = [\n",
    "    'dark',\n",
    "    'streets',\n",
    "    'imagery'\n",
    "]\n",
    "\n",
    "# # add random all data to all other basemaps - same map so would have been same numbers \n",
    "# for baseMapIndex in range(len(basemaps)):\n",
    "#     datadfRandomAll = datadf.loc[datadf['distractor'] == 'random']\n",
    "#     datadfRandomAll = datadfRandomAll.loc[datadf['distractorlevel'] == 'all']\n",
    "#     datadfRandomAll = datadfRandomAll.loc[datadf['basemap'] == 'none']\n",
    "#     datadfRandomAll['source'] = 'copied'\n",
    "#     datadfRandomAll['basemap'] = basemaps[baseMapIndex]\n",
    "#     datadfRandomAll['distractorcat'] =  datadfRandomAll['distractorcat'].replace('none' , basemaps[baseMapIndex], regex=True)\n",
    "#     datadf = datadf.append(datadfRandomAll, ignore_index=True)\n",
    "\n",
    "# # add clustered mixed data to all other basemaps - same map so would have been same numbers \n",
    "# for baseMapIndex in range(len(basemaps)):\n",
    "#     datadfRandomAll = datadf.loc[datadf['distractor'] == 'clustered']\n",
    "#     datadfRandomAll = datadfRandomAll.loc[datadf['color'] == 'mixed']\n",
    "#     datadfRandomAll = datadfRandomAll.loc[datadf['basemap'] == 'none']\n",
    "#     datadfRandomAll['source'] = 'copied'\n",
    "#     datadfRandomAll['basemap'] = basemaps[baseMapIndex]\n",
    "#     datadfRandomAll['distractorcat'] =  datadfRandomAll['distractorcat'].replace('none' , basemaps[baseMapIndex], regex=True)\n",
    "#     datadf = datadf.append(datadfRandomAll, ignore_index=True)\n",
    "    \n",
    "# create categories\n",
    "datadf['grpcat'] = datadf['target'] + \"-\" + datadf['distractorcat'] \n",
    "datadf['category'] = datadf['distractorcat'] \n",
    "datadf['posthoccat'] = datadf['distractor'] + '-' + datadf['distractorlevel'] + '-' + datadf['color'] + '-' + datadf['target'].replace(' ' ,'_', regex=True)\n",
    "datadf['posthoccat2'] = datadf['distractor'] + '-' + datadf['distractorlevel'] + '-' + datadf['color']\n",
    "datadf['posthoccat3'] = datadf['distractor'] + '-' + datadf['color'] + '-' + datadf['target'].replace(' ' ,'_', regex=True)\n",
    "\n",
    "# log metrics\n",
    "dataMetricsdf['noplog'] = np.log(dataMetricsdf['number_of_patches'])\n",
    "dataMetricsdf['contagionlog'] = np.log(dataMetricsdf['contagion'])\n",
    "dataMetricsdf['shapeindexlog'] = np.log(dataMetricsdf['shape_index_mn'])\n",
    "dataMetricsdf['fracdimlog'] = np.log(dataMetricsdf['fractal_dimension_mn'])\n",
    "dataMetricsdf['ennlog'] = np.log(dataMetricsdf['euclidean_nearest_neighbor_mn'])\n",
    "dataMetricsdf['patchensitylog'] = np.log(dataMetricsdf['patch_density'])\n",
    "dataMetricsdf['areamnlog'] = np.log(dataMetricsdf['area_mn'])\n",
    "\n",
    "# merge metrics and data\n",
    "datadf =  pd.merge(datadf, dataMetricsdf, on=\"distractorcat\", how=\"left\")\n",
    "\n",
    "# export merged data\n",
    "datadf.to_csv('data/data-and-metrics.csv')"
   ]
  },
  {
   "cell_type": "code",
   "execution_count": null,
   "metadata": {},
   "outputs": [],
   "source": []
  }
 ],
 "metadata": {
  "kernelspec": {
   "display_name": "Python 3",
   "language": "python",
   "name": "python3"
  },
  "language_info": {
   "codemirror_mode": {
    "name": "ipython",
    "version": 3
   },
   "file_extension": ".py",
   "mimetype": "text/x-python",
   "name": "python",
   "nbconvert_exporter": "python",
   "pygments_lexer": "ipython3",
   "version": "3.8.6"
  }
 },
 "nbformat": 4,
 "nbformat_minor": 4
}
